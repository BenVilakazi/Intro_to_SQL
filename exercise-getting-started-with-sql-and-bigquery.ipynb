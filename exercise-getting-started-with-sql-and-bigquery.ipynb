{
 "cells": [
  {
   "cell_type": "markdown",
   "id": "ba6b50e1",
   "metadata": {
    "papermill": {
     "duration": 0.009562,
     "end_time": "2023-11-29T21:38:49.651322",
     "exception": false,
     "start_time": "2023-11-29T21:38:49.641760",
     "status": "completed"
    },
    "tags": []
   },
   "source": [
    "**This notebook is an exercise in the [SQL](https://www.kaggle.com/learn/intro-to-sql) course.  You can reference the tutorial at [this link](https://www.kaggle.com/dansbecker/getting-started-with-sql-and-bigquery).**\n",
    "\n",
    "---\n"
   ]
  },
  {
   "cell_type": "markdown",
   "id": "806562c0",
   "metadata": {
    "papermill": {
     "duration": 0.006852,
     "end_time": "2023-11-29T21:38:49.665447",
     "exception": false,
     "start_time": "2023-11-29T21:38:49.658595",
     "status": "completed"
    },
    "tags": []
   },
   "source": [
    "# Introduction\n",
    "\n",
    "The first test of your new data exploration skills uses data describing crime in the city of Chicago.\n",
    "\n",
    "Before you get started, run the following cell. It sets up the automated feedback system to review your answers."
   ]
  },
  {
   "cell_type": "code",
   "execution_count": 1,
   "id": "974db5a1",
   "metadata": {
    "execution": {
     "iopub.execute_input": "2023-11-29T21:38:49.682241Z",
     "iopub.status.busy": "2023-11-29T21:38:49.681388Z",
     "iopub.status.idle": "2023-11-29T21:38:54.931834Z",
     "shell.execute_reply": "2023-11-29T21:38:54.930089Z"
    },
    "papermill": {
     "duration": 5.26268,
     "end_time": "2023-11-29T21:38:54.935279",
     "exception": false,
     "start_time": "2023-11-29T21:38:49.672599",
     "status": "completed"
    },
    "tags": []
   },
   "outputs": [
    {
     "name": "stdout",
     "output_type": "stream",
     "text": [
      "Using Kaggle's public dataset BigQuery integration.\n",
      "Setup Complete\n"
     ]
    }
   ],
   "source": [
    "# Set up feedack system\n",
    "from learntools.core import binder\n",
    "binder.bind(globals())\n",
    "from learntools.sql.ex1 import *\n",
    "print(\"Setup Complete\")"
   ]
  },
  {
   "cell_type": "markdown",
   "id": "93bcb3f2",
   "metadata": {
    "papermill": {
     "duration": 0.011873,
     "end_time": "2023-11-29T21:38:54.961389",
     "exception": false,
     "start_time": "2023-11-29T21:38:54.949516",
     "status": "completed"
    },
    "tags": []
   },
   "source": [
    "Use the next code cell to fetch the dataset."
   ]
  },
  {
   "cell_type": "code",
   "execution_count": 2,
   "id": "57c37e50",
   "metadata": {
    "execution": {
     "iopub.execute_input": "2023-11-29T21:38:54.989586Z",
     "iopub.status.busy": "2023-11-29T21:38:54.985954Z",
     "iopub.status.idle": "2023-11-29T21:38:55.371467Z",
     "shell.execute_reply": "2023-11-29T21:38:55.370263Z"
    },
    "papermill": {
     "duration": 0.402077,
     "end_time": "2023-11-29T21:38:55.374433",
     "exception": false,
     "start_time": "2023-11-29T21:38:54.972356",
     "status": "completed"
    },
    "tags": []
   },
   "outputs": [
    {
     "name": "stdout",
     "output_type": "stream",
     "text": [
      "Using Kaggle's public dataset BigQuery integration.\n"
     ]
    }
   ],
   "source": [
    "from google.cloud import bigquery\n",
    "\n",
    "# Create a \"Client\" object\n",
    "client = bigquery.Client()\n",
    "\n",
    "# Construct a reference to the \"chicago_crime\" dataset\n",
    "dataset_ref = client.dataset(\"chicago_crime\", project=\"bigquery-public-data\")\n",
    "\n",
    "# API request - fetch the dataset\n",
    "dataset = client.get_dataset(dataset_ref)"
   ]
  },
  {
   "cell_type": "markdown",
   "id": "3e388e96",
   "metadata": {
    "papermill": {
     "duration": 0.007425,
     "end_time": "2023-11-29T21:38:55.392413",
     "exception": false,
     "start_time": "2023-11-29T21:38:55.384988",
     "status": "completed"
    },
    "tags": []
   },
   "source": [
    "# Exercises\n",
    "\n",
    "### 1) Count tables in the dataset\n",
    "\n",
    "How many tables are in the Chicago Crime dataset?"
   ]
  },
  {
   "cell_type": "code",
   "execution_count": 3,
   "id": "08ab7e41",
   "metadata": {
    "execution": {
     "iopub.execute_input": "2023-11-29T21:38:55.411657Z",
     "iopub.status.busy": "2023-11-29T21:38:55.411165Z",
     "iopub.status.idle": "2023-11-29T21:38:55.673053Z",
     "shell.execute_reply": "2023-11-29T21:38:55.671834Z"
    },
    "papermill": {
     "duration": 0.274966,
     "end_time": "2023-11-29T21:38:55.675853",
     "exception": false,
     "start_time": "2023-11-29T21:38:55.400887",
     "status": "completed"
    },
    "tags": []
   },
   "outputs": [],
   "source": [
    "tables = list(client.list_tables(dataset))"
   ]
  },
  {
   "cell_type": "code",
   "execution_count": 4,
   "id": "ab776d3b",
   "metadata": {
    "execution": {
     "iopub.execute_input": "2023-11-29T21:38:55.693596Z",
     "iopub.status.busy": "2023-11-29T21:38:55.693115Z",
     "iopub.status.idle": "2023-11-29T21:38:55.704877Z",
     "shell.execute_reply": "2023-11-29T21:38:55.703603Z"
    },
    "papermill": {
     "duration": 0.024833,
     "end_time": "2023-11-29T21:38:55.708323",
     "exception": false,
     "start_time": "2023-11-29T21:38:55.683490",
     "status": "completed"
    },
    "tags": []
   },
   "outputs": [
    {
     "data": {
      "application/javascript": [
       "parent.postMessage({\"jupyterEvent\": \"custom.exercise_interaction\", \"data\": {\"outcomeType\": 1, \"valueTowardsCompletion\": 0.3333333333333333, \"interactionType\": 1, \"questionType\": 1, \"questionId\": \"1_CountTables\", \"learnToolsVersion\": \"0.3.4\", \"failureMessage\": \"\", \"exceptionClass\": \"\", \"trace\": \"\"}}, \"*\")"
      ],
      "text/plain": [
       "<IPython.core.display.Javascript object>"
      ]
     },
     "metadata": {},
     "output_type": "display_data"
    },
    {
     "data": {
      "text/markdown": [
       "<span style=\"color:#33cc33\">Correct</span>"
      ],
      "text/plain": [
       "Correct"
      ]
     },
     "metadata": {},
     "output_type": "display_data"
    }
   ],
   "source": [
    "num_tables = 1  # Store the answer as num_tables and then run this cell\n",
    "\n",
    "# Check your answer\n",
    "q_1.check()"
   ]
  },
  {
   "cell_type": "markdown",
   "id": "fe62c59d",
   "metadata": {
    "papermill": {
     "duration": 0.010673,
     "end_time": "2023-11-29T21:38:55.731396",
     "exception": false,
     "start_time": "2023-11-29T21:38:55.720723",
     "status": "completed"
    },
    "tags": []
   },
   "source": [
    "For a hint or the solution, uncomment the appropriate line below."
   ]
  },
  {
   "cell_type": "code",
   "execution_count": 5,
   "id": "c91e9949",
   "metadata": {
    "execution": {
     "iopub.execute_input": "2023-11-29T21:38:55.753653Z",
     "iopub.status.busy": "2023-11-29T21:38:55.752661Z",
     "iopub.status.idle": "2023-11-29T21:38:55.757571Z",
     "shell.execute_reply": "2023-11-29T21:38:55.756542Z"
    },
    "papermill": {
     "duration": 0.017995,
     "end_time": "2023-11-29T21:38:55.760348",
     "exception": false,
     "start_time": "2023-11-29T21:38:55.742353",
     "status": "completed"
    },
    "tags": []
   },
   "outputs": [],
   "source": [
    "#q_1.hint()\n",
    "#q_1.solution()"
   ]
  },
  {
   "cell_type": "markdown",
   "id": "baab1aeb",
   "metadata": {
    "papermill": {
     "duration": 0.007761,
     "end_time": "2023-11-29T21:38:55.776360",
     "exception": false,
     "start_time": "2023-11-29T21:38:55.768599",
     "status": "completed"
    },
    "tags": []
   },
   "source": [
    "### 2) Explore the table schema\n",
    "\n",
    "How many columns in the `crime` table have `TIMESTAMP` data?"
   ]
  },
  {
   "cell_type": "code",
   "execution_count": 6,
   "id": "8b0fbeff",
   "metadata": {
    "execution": {
     "iopub.execute_input": "2023-11-29T21:38:55.795484Z",
     "iopub.status.busy": "2023-11-29T21:38:55.794487Z",
     "iopub.status.idle": "2023-11-29T21:38:56.029068Z",
     "shell.execute_reply": "2023-11-29T21:38:56.027214Z"
    },
    "papermill": {
     "duration": 0.247587,
     "end_time": "2023-11-29T21:38:56.032254",
     "exception": false,
     "start_time": "2023-11-29T21:38:55.784667",
     "status": "completed"
    },
    "tags": []
   },
   "outputs": [
    {
     "name": "stdout",
     "output_type": "stream",
     "text": [
      "[SchemaField('unique_key', 'INTEGER', 'REQUIRED', None, (), None), SchemaField('case_number', 'STRING', 'NULLABLE', None, (), None), SchemaField('date', 'TIMESTAMP', 'NULLABLE', None, (), None), SchemaField('block', 'STRING', 'NULLABLE', None, (), None), SchemaField('iucr', 'STRING', 'NULLABLE', None, (), None), SchemaField('primary_type', 'STRING', 'NULLABLE', None, (), None), SchemaField('description', 'STRING', 'NULLABLE', None, (), None), SchemaField('location_description', 'STRING', 'NULLABLE', None, (), None), SchemaField('arrest', 'BOOLEAN', 'NULLABLE', None, (), None), SchemaField('domestic', 'BOOLEAN', 'NULLABLE', None, (), None), SchemaField('beat', 'INTEGER', 'NULLABLE', None, (), None), SchemaField('district', 'INTEGER', 'NULLABLE', None, (), None), SchemaField('ward', 'INTEGER', 'NULLABLE', None, (), None), SchemaField('community_area', 'INTEGER', 'NULLABLE', None, (), None), SchemaField('fbi_code', 'STRING', 'NULLABLE', None, (), None), SchemaField('x_coordinate', 'FLOAT', 'NULLABLE', None, (), None), SchemaField('y_coordinate', 'FLOAT', 'NULLABLE', None, (), None), SchemaField('year', 'INTEGER', 'NULLABLE', None, (), None), SchemaField('updated_on', 'TIMESTAMP', 'NULLABLE', None, (), None), SchemaField('latitude', 'FLOAT', 'NULLABLE', None, (), None), SchemaField('longitude', 'FLOAT', 'NULLABLE', None, (), None), SchemaField('location', 'STRING', 'NULLABLE', None, (), None)]\n"
     ]
    }
   ],
   "source": [
    "table_ref = dataset_ref.table(\"crime\")\n",
    "table = client.get_table(table_ref)\n",
    "print(table.schema)"
   ]
  },
  {
   "cell_type": "code",
   "execution_count": 7,
   "id": "81e4479b",
   "metadata": {
    "execution": {
     "iopub.execute_input": "2023-11-29T21:38:56.051199Z",
     "iopub.status.busy": "2023-11-29T21:38:56.050279Z",
     "iopub.status.idle": "2023-11-29T21:38:56.061598Z",
     "shell.execute_reply": "2023-11-29T21:38:56.060322Z"
    },
    "papermill": {
     "duration": 0.023333,
     "end_time": "2023-11-29T21:38:56.064153",
     "exception": false,
     "start_time": "2023-11-29T21:38:56.040820",
     "status": "completed"
    },
    "tags": []
   },
   "outputs": [
    {
     "data": {
      "application/javascript": [
       "parent.postMessage({\"jupyterEvent\": \"custom.exercise_interaction\", \"data\": {\"outcomeType\": 1, \"valueTowardsCompletion\": 0.3333333333333333, \"interactionType\": 1, \"questionType\": 1, \"questionId\": \"2_CountTimestampFields\", \"learnToolsVersion\": \"0.3.4\", \"failureMessage\": \"\", \"exceptionClass\": \"\", \"trace\": \"\"}}, \"*\")"
      ],
      "text/plain": [
       "<IPython.core.display.Javascript object>"
      ]
     },
     "metadata": {},
     "output_type": "display_data"
    },
    {
     "data": {
      "text/markdown": [
       "<span style=\"color:#33cc33\">Correct</span>"
      ],
      "text/plain": [
       "Correct"
      ]
     },
     "metadata": {},
     "output_type": "display_data"
    }
   ],
   "source": [
    "num_timestamp_fields = 2 # Put your answer here\n",
    "\n",
    "# Check your answer\n",
    "q_2.check()"
   ]
  },
  {
   "cell_type": "markdown",
   "id": "70fde590",
   "metadata": {
    "papermill": {
     "duration": 0.010913,
     "end_time": "2023-11-29T21:38:56.084192",
     "exception": false,
     "start_time": "2023-11-29T21:38:56.073279",
     "status": "completed"
    },
    "tags": []
   },
   "source": [
    "For a hint or the solution, uncomment the appropriate line below."
   ]
  },
  {
   "cell_type": "code",
   "execution_count": 8,
   "id": "1346c50b",
   "metadata": {
    "execution": {
     "iopub.execute_input": "2023-11-29T21:38:56.103824Z",
     "iopub.status.busy": "2023-11-29T21:38:56.103406Z",
     "iopub.status.idle": "2023-11-29T21:38:56.108670Z",
     "shell.execute_reply": "2023-11-29T21:38:56.107266Z"
    },
    "papermill": {
     "duration": 0.018651,
     "end_time": "2023-11-29T21:38:56.111253",
     "exception": false,
     "start_time": "2023-11-29T21:38:56.092602",
     "status": "completed"
    },
    "tags": []
   },
   "outputs": [],
   "source": [
    "#q_2.hint()\n",
    "#q_2.solution()"
   ]
  },
  {
   "cell_type": "markdown",
   "id": "82cd409f",
   "metadata": {
    "papermill": {
     "duration": 0.008501,
     "end_time": "2023-11-29T21:38:56.128096",
     "exception": false,
     "start_time": "2023-11-29T21:38:56.119595",
     "status": "completed"
    },
    "tags": []
   },
   "source": [
    "### 3) Create a crime map\n",
    "\n",
    "If you wanted to create a map with a dot at the location of each crime, what are the names of the two fields you likely need to pull out of the `crime` table to plot the crimes on a map?"
   ]
  },
  {
   "cell_type": "code",
   "execution_count": 9,
   "id": "b8b65f3a",
   "metadata": {
    "execution": {
     "iopub.execute_input": "2023-11-29T21:38:56.147973Z",
     "iopub.status.busy": "2023-11-29T21:38:56.147522Z",
     "iopub.status.idle": "2023-11-29T21:38:57.083658Z",
     "shell.execute_reply": "2023-11-29T21:38:57.082762Z"
    },
    "papermill": {
     "duration": 0.949527,
     "end_time": "2023-11-29T21:38:57.086227",
     "exception": false,
     "start_time": "2023-11-29T21:38:56.136700",
     "status": "completed"
    },
    "tags": []
   },
   "outputs": [
    {
     "data": {
      "text/html": [
       "<div>\n",
       "<style scoped>\n",
       "    .dataframe tbody tr th:only-of-type {\n",
       "        vertical-align: middle;\n",
       "    }\n",
       "\n",
       "    .dataframe tbody tr th {\n",
       "        vertical-align: top;\n",
       "    }\n",
       "\n",
       "    .dataframe thead th {\n",
       "        text-align: right;\n",
       "    }\n",
       "</style>\n",
       "<table border=\"1\" class=\"dataframe\">\n",
       "  <thead>\n",
       "    <tr style=\"text-align: right;\">\n",
       "      <th></th>\n",
       "      <th>unique_key</th>\n",
       "      <th>case_number</th>\n",
       "      <th>date</th>\n",
       "      <th>block</th>\n",
       "      <th>iucr</th>\n",
       "      <th>primary_type</th>\n",
       "      <th>description</th>\n",
       "      <th>location_description</th>\n",
       "      <th>arrest</th>\n",
       "      <th>domestic</th>\n",
       "      <th>...</th>\n",
       "      <th>ward</th>\n",
       "      <th>community_area</th>\n",
       "      <th>fbi_code</th>\n",
       "      <th>x_coordinate</th>\n",
       "      <th>y_coordinate</th>\n",
       "      <th>year</th>\n",
       "      <th>updated_on</th>\n",
       "      <th>latitude</th>\n",
       "      <th>longitude</th>\n",
       "      <th>location</th>\n",
       "    </tr>\n",
       "  </thead>\n",
       "  <tbody>\n",
       "    <tr>\n",
       "      <th>0</th>\n",
       "      <td>3723</td>\n",
       "      <td>HM509037</td>\n",
       "      <td>2006-07-30 02:52:00+00:00</td>\n",
       "      <td>000XX E 105TH ST</td>\n",
       "      <td>0110</td>\n",
       "      <td>HOMICIDE</td>\n",
       "      <td>FIRST DEGREE MURDER</td>\n",
       "      <td>AUTO</td>\n",
       "      <td>False</td>\n",
       "      <td>False</td>\n",
       "      <td>...</td>\n",
       "      <td>9</td>\n",
       "      <td>49</td>\n",
       "      <td>01A</td>\n",
       "      <td>1178264.0</td>\n",
       "      <td>1835337.0</td>\n",
       "      <td>2006</td>\n",
       "      <td>2022-09-19 03:41:05+00:00</td>\n",
       "      <td>41.703472</td>\n",
       "      <td>-87.622846</td>\n",
       "      <td>(41.703471629, -87.62284629)</td>\n",
       "    </tr>\n",
       "    <tr>\n",
       "      <th>1</th>\n",
       "      <td>3031</td>\n",
       "      <td>HL146245</td>\n",
       "      <td>2005-01-26 08:06:00+00:00</td>\n",
       "      <td>007XX E 103RD PL</td>\n",
       "      <td>0110</td>\n",
       "      <td>HOMICIDE</td>\n",
       "      <td>FIRST DEGREE MURDER</td>\n",
       "      <td>YARD</td>\n",
       "      <td>True</td>\n",
       "      <td>True</td>\n",
       "      <td>...</td>\n",
       "      <td>9</td>\n",
       "      <td>50</td>\n",
       "      <td>01A</td>\n",
       "      <td>1182951.0</td>\n",
       "      <td>1836489.0</td>\n",
       "      <td>2005</td>\n",
       "      <td>2022-09-19 03:41:05+00:00</td>\n",
       "      <td>41.706525</td>\n",
       "      <td>-87.605648</td>\n",
       "      <td>(41.706525472, -87.605647981)</td>\n",
       "    </tr>\n",
       "    <tr>\n",
       "      <th>2</th>\n",
       "      <td>2498950</td>\n",
       "      <td>HH839590</td>\n",
       "      <td>2002-12-15 05:58:20+00:00</td>\n",
       "      <td>001XX E 105TH ST</td>\n",
       "      <td>0265</td>\n",
       "      <td>CRIM SEXUAL ASSAULT</td>\n",
       "      <td>AGGRAVATED: OTHER</td>\n",
       "      <td>ALLEY</td>\n",
       "      <td>True</td>\n",
       "      <td>False</td>\n",
       "      <td>...</td>\n",
       "      <td>9</td>\n",
       "      <td>49</td>\n",
       "      <td>02</td>\n",
       "      <td>1179226.0</td>\n",
       "      <td>1835364.0</td>\n",
       "      <td>2002</td>\n",
       "      <td>2018-02-28 03:56:25+00:00</td>\n",
       "      <td>41.703524</td>\n",
       "      <td>-87.619323</td>\n",
       "      <td>(41.703523887, -87.619322851)</td>\n",
       "    </tr>\n",
       "    <tr>\n",
       "      <th>3</th>\n",
       "      <td>6294878</td>\n",
       "      <td>HP242986</td>\n",
       "      <td>2008-03-11 12:00:00+00:00</td>\n",
       "      <td>006XX E 105TH PL</td>\n",
       "      <td>0266</td>\n",
       "      <td>CRIM SEXUAL ASSAULT</td>\n",
       "      <td>PREDATORY</td>\n",
       "      <td>RESIDENCE</td>\n",
       "      <td>False</td>\n",
       "      <td>True</td>\n",
       "      <td>...</td>\n",
       "      <td>9</td>\n",
       "      <td>50</td>\n",
       "      <td>02</td>\n",
       "      <td>1182684.0</td>\n",
       "      <td>1835148.0</td>\n",
       "      <td>2008</td>\n",
       "      <td>2018-02-10 03:50:01+00:00</td>\n",
       "      <td>41.702852</td>\n",
       "      <td>-87.606667</td>\n",
       "      <td>(41.702851783, -87.606667153)</td>\n",
       "    </tr>\n",
       "    <tr>\n",
       "      <th>4</th>\n",
       "      <td>9563194</td>\n",
       "      <td>HX214862</td>\n",
       "      <td>2014-04-05 09:00:00+00:00</td>\n",
       "      <td>003XX W 106TH PL</td>\n",
       "      <td>0281</td>\n",
       "      <td>CRIM SEXUAL ASSAULT</td>\n",
       "      <td>NON-AGGRAVATED</td>\n",
       "      <td>RESIDENCE</td>\n",
       "      <td>False</td>\n",
       "      <td>False</td>\n",
       "      <td>...</td>\n",
       "      <td>34</td>\n",
       "      <td>49</td>\n",
       "      <td>02</td>\n",
       "      <td>1175906.0</td>\n",
       "      <td>1834302.0</td>\n",
       "      <td>2014</td>\n",
       "      <td>2016-02-04 06:33:39+00:00</td>\n",
       "      <td>41.700684</td>\n",
       "      <td>-87.631512</td>\n",
       "      <td>(41.700684498, -87.631511638)</td>\n",
       "    </tr>\n",
       "  </tbody>\n",
       "</table>\n",
       "<p>5 rows × 22 columns</p>\n",
       "</div>"
      ],
      "text/plain": [
       "   unique_key case_number                      date             block  iucr  \\\n",
       "0        3723    HM509037 2006-07-30 02:52:00+00:00  000XX E 105TH ST  0110   \n",
       "1        3031    HL146245 2005-01-26 08:06:00+00:00  007XX E 103RD PL  0110   \n",
       "2     2498950    HH839590 2002-12-15 05:58:20+00:00  001XX E 105TH ST  0265   \n",
       "3     6294878    HP242986 2008-03-11 12:00:00+00:00  006XX E 105TH PL  0266   \n",
       "4     9563194    HX214862 2014-04-05 09:00:00+00:00  003XX W 106TH PL  0281   \n",
       "\n",
       "          primary_type          description location_description  arrest  \\\n",
       "0             HOMICIDE  FIRST DEGREE MURDER                 AUTO   False   \n",
       "1             HOMICIDE  FIRST DEGREE MURDER                 YARD    True   \n",
       "2  CRIM SEXUAL ASSAULT    AGGRAVATED: OTHER                ALLEY    True   \n",
       "3  CRIM SEXUAL ASSAULT            PREDATORY            RESIDENCE   False   \n",
       "4  CRIM SEXUAL ASSAULT       NON-AGGRAVATED            RESIDENCE   False   \n",
       "\n",
       "   domestic  ...  ward  community_area  fbi_code  x_coordinate y_coordinate  \\\n",
       "0     False  ...     9              49       01A     1178264.0    1835337.0   \n",
       "1      True  ...     9              50       01A     1182951.0    1836489.0   \n",
       "2     False  ...     9              49        02     1179226.0    1835364.0   \n",
       "3      True  ...     9              50        02     1182684.0    1835148.0   \n",
       "4     False  ...    34              49        02     1175906.0    1834302.0   \n",
       "\n",
       "   year                updated_on   latitude  longitude  \\\n",
       "0  2006 2022-09-19 03:41:05+00:00  41.703472 -87.622846   \n",
       "1  2005 2022-09-19 03:41:05+00:00  41.706525 -87.605648   \n",
       "2  2002 2018-02-28 03:56:25+00:00  41.703524 -87.619323   \n",
       "3  2008 2018-02-10 03:50:01+00:00  41.702852 -87.606667   \n",
       "4  2014 2016-02-04 06:33:39+00:00  41.700684 -87.631512   \n",
       "\n",
       "                        location  \n",
       "0   (41.703471629, -87.62284629)  \n",
       "1  (41.706525472, -87.605647981)  \n",
       "2  (41.703523887, -87.619322851)  \n",
       "3  (41.702851783, -87.606667153)  \n",
       "4  (41.700684498, -87.631511638)  \n",
       "\n",
       "[5 rows x 22 columns]"
      ]
     },
     "execution_count": 9,
     "metadata": {},
     "output_type": "execute_result"
    }
   ],
   "source": [
    "table_ref = dataset_ref.table(\"crime\")\n",
    "table = client.get_table(table_ref)\n",
    "client.list_rows(table, max_results=5).to_dataframe()"
   ]
  },
  {
   "cell_type": "code",
   "execution_count": 10,
   "id": "ae893ad8",
   "metadata": {
    "execution": {
     "iopub.execute_input": "2023-11-29T21:38:57.106943Z",
     "iopub.status.busy": "2023-11-29T21:38:57.106206Z",
     "iopub.status.idle": "2023-11-29T21:38:57.116310Z",
     "shell.execute_reply": "2023-11-29T21:38:57.114922Z"
    },
    "papermill": {
     "duration": 0.023639,
     "end_time": "2023-11-29T21:38:57.119160",
     "exception": false,
     "start_time": "2023-11-29T21:38:57.095521",
     "status": "completed"
    },
    "tags": []
   },
   "outputs": [
    {
     "data": {
      "application/javascript": [
       "parent.postMessage({\"jupyterEvent\": \"custom.exercise_interaction\", \"data\": {\"outcomeType\": 1, \"valueTowardsCompletion\": 0.3333333333333333, \"interactionType\": 1, \"questionType\": 2, \"questionId\": \"3_IdentifyFieldsForPlotting\", \"learnToolsVersion\": \"0.3.4\", \"failureMessage\": \"\", \"exceptionClass\": \"\", \"trace\": \"\"}}, \"*\")"
      ],
      "text/plain": [
       "<IPython.core.display.Javascript object>"
      ]
     },
     "metadata": {},
     "output_type": "display_data"
    },
    {
     "data": {
      "text/markdown": [
       "<span style=\"color:#33cc33\">Correct</span>"
      ],
      "text/plain": [
       "Correct"
      ]
     },
     "metadata": {},
     "output_type": "display_data"
    }
   ],
   "source": [
    "fields_for_plotting = ['latitude', 'longitude'] # Put your answers here\n",
    "\n",
    "# Check your answer\n",
    "q_3.check()"
   ]
  },
  {
   "cell_type": "markdown",
   "id": "078e416d",
   "metadata": {
    "papermill": {
     "duration": 0.009019,
     "end_time": "2023-11-29T21:38:57.137417",
     "exception": false,
     "start_time": "2023-11-29T21:38:57.128398",
     "status": "completed"
    },
    "tags": []
   },
   "source": [
    "For a hint or the solution, uncomment the appropriate line below."
   ]
  },
  {
   "cell_type": "code",
   "execution_count": 11,
   "id": "3fc0aedc",
   "metadata": {
    "execution": {
     "iopub.execute_input": "2023-11-29T21:38:57.157739Z",
     "iopub.status.busy": "2023-11-29T21:38:57.157342Z",
     "iopub.status.idle": "2023-11-29T21:38:57.162006Z",
     "shell.execute_reply": "2023-11-29T21:38:57.160822Z"
    },
    "papermill": {
     "duration": 0.018047,
     "end_time": "2023-11-29T21:38:57.164798",
     "exception": false,
     "start_time": "2023-11-29T21:38:57.146751",
     "status": "completed"
    },
    "tags": []
   },
   "outputs": [],
   "source": [
    "#q_3.hint()\n",
    "#q_3.solution()"
   ]
  },
  {
   "cell_type": "markdown",
   "id": "f2cbdab4",
   "metadata": {
    "papermill": {
     "duration": 0.008879,
     "end_time": "2023-11-29T21:38:57.183291",
     "exception": false,
     "start_time": "2023-11-29T21:38:57.174412",
     "status": "completed"
    },
    "tags": []
   },
   "source": [
    "Thinking about the question above, there are a few columns that appear to have geographic data. Look at a few values (with the `list_rows()` command) to see if you can determine their relationship.  Two columns will still be hard to interpret. But it should be obvious how the `location` column relates to `latitude` and `longitude`."
   ]
  },
  {
   "cell_type": "code",
   "execution_count": 12,
   "id": "31080ded",
   "metadata": {
    "execution": {
     "iopub.execute_input": "2023-11-29T21:38:57.203485Z",
     "iopub.status.busy": "2023-11-29T21:38:57.203085Z",
     "iopub.status.idle": "2023-11-29T21:38:57.208748Z",
     "shell.execute_reply": "2023-11-29T21:38:57.207319Z"
    },
    "papermill": {
     "duration": 0.018968,
     "end_time": "2023-11-29T21:38:57.211437",
     "exception": false,
     "start_time": "2023-11-29T21:38:57.192469",
     "status": "completed"
    },
    "tags": []
   },
   "outputs": [],
   "source": [
    "# Scratch space for your code"
   ]
  },
  {
   "cell_type": "markdown",
   "id": "25c7ecb2",
   "metadata": {
    "papermill": {
     "duration": 0.009259,
     "end_time": "2023-11-29T21:38:57.229931",
     "exception": false,
     "start_time": "2023-11-29T21:38:57.220672",
     "status": "completed"
    },
    "tags": []
   },
   "source": [
    "# Keep going\n",
    "\n",
    "You've looked at the schema, but you haven't yet done anything exciting with the data itself. Things get more interesting when you get to the data, so keep going to **[write your first SQL query](https://www.kaggle.com/dansbecker/select-from-where).**"
   ]
  },
  {
   "cell_type": "markdown",
   "id": "c24f5f9d",
   "metadata": {
    "papermill": {
     "duration": 0.009024,
     "end_time": "2023-11-29T21:38:57.248176",
     "exception": false,
     "start_time": "2023-11-29T21:38:57.239152",
     "status": "completed"
    },
    "tags": []
   },
   "source": [
    "---\n",
    "\n",
    "\n",
    "\n",
    "\n",
    "*Have questions or comments? Visit the [course discussion forum](https://www.kaggle.com/learn/intro-to-sql/discussion) to chat with other learners.*"
   ]
  }
 ],
 "metadata": {
  "kaggle": {
   "accelerator": "none",
   "dataSources": [
    {
     "datasetId": 22090,
     "sourceId": 28376,
     "sourceType": "datasetVersion"
    },
    {
     "datasetId": 6057,
     "sourceId": 285982,
     "sourceType": "datasetVersion"
    }
   ],
   "isGpuEnabled": false,
   "isInternetEnabled": false,
   "language": "python",
   "sourceType": "notebook"
  },
  "kernelspec": {
   "display_name": "Python 3",
   "language": "python",
   "name": "python3"
  },
  "language_info": {
   "codemirror_mode": {
    "name": "ipython",
    "version": 3
   },
   "file_extension": ".py",
   "mimetype": "text/x-python",
   "name": "python",
   "nbconvert_exporter": "python",
   "pygments_lexer": "ipython3",
   "version": "3.10.12"
  },
  "papermill": {
   "default_parameters": {},
   "duration": 12.058791,
   "end_time": "2023-11-29T21:38:58.079605",
   "environment_variables": {},
   "exception": null,
   "input_path": "__notebook__.ipynb",
   "output_path": "__notebook__.ipynb",
   "parameters": {},
   "start_time": "2023-11-29T21:38:46.020814",
   "version": "2.4.0"
  }
 },
 "nbformat": 4,
 "nbformat_minor": 5
}
